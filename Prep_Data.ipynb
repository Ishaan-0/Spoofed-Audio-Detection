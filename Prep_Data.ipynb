{
 "cells": [
  {
   "cell_type": "markdown",
   "id": "40cc6538-da13-42e7-b858-36620ddbeeed",
   "metadata": {},
   "source": [
    "### dev files"
   ]
  },
  {
   "cell_type": "code",
   "execution_count": 175,
   "id": "a25e106f-1a16-4b17-98d6-cd440c3c9239",
   "metadata": {},
   "outputs": [],
   "source": [
    "with open(\"/Users/ishaan/Documents/ASVspoof 2019 Dataset/ASVspoof2019_LA_asv_protocols/ASVspoof2019.LA.asv.dev.female.trl.txt\") as f:\n",
    "    contents = f.readlines()"
   ]
  },
  {
   "cell_type": "code",
   "execution_count": 153,
   "id": "e8699595-5abe-477c-97a9-fa95ef6ed3b3",
   "metadata": {},
   "outputs": [],
   "source": [
    "with open(\"/Users/ishaan/Documents/ASVspoof 2019 Dataset/ASVspoof2019_LA_asv_protocols/ASVspoof2019.LA.asv.dev.gi.trl.txt\") as f:\n",
    "    contents2 = f.readlines()"
   ]
  },
  {
   "cell_type": "code",
   "execution_count": 177,
   "id": "861eea1d-f9be-4279-91e9-e4adfbdfc4b8",
   "metadata": {},
   "outputs": [],
   "source": [
    "# for the file \"ASVspoof2019.LA.asv.dev.gi.trl.txt\", \"ASVspoof2019.LA.asv.dev.male.trl.txt\"\n",
    "bonafide_contents = []\n",
    "for line in contents:\n",
    "    if \"bonafide\" in line:\n",
    "        bonafide_contents.append(line)"
   ]
  },
  {
   "cell_type": "code",
   "execution_count": 179,
   "id": "02776822-4257-4546-bf4e-494bc3f051e9",
   "metadata": {},
   "outputs": [
    {
     "data": {
      "text/plain": [
       "['LA_0072 LA_D_4356541 bonafide target\\n',\n",
       " 'LA_0072 LA_D_6092752 bonafide target\\n',\n",
       " 'LA_0072 LA_D_5090421 bonafide target\\n',\n",
       " 'LA_0072 LA_D_6718237 bonafide target\\n',\n",
       " 'LA_0072 LA_D_6073354 bonafide target\\n']"
      ]
     },
     "execution_count": 179,
     "metadata": {},
     "output_type": "execute_result"
    }
   ],
   "source": [
    "bonafide_contents[:5]"
   ]
  },
  {
   "cell_type": "code",
   "execution_count": 181,
   "id": "5f448db1-0db9-4fd9-93b7-8185b6c283d1",
   "metadata": {},
   "outputs": [],
   "source": [
    "spoof_contents = []\n",
    "for line in contents:\n",
    "    if \"spoof\" in line:\n",
    "        spoof_contents.append(line)"
   ]
  },
  {
   "cell_type": "code",
   "execution_count": 183,
   "id": "83f9e57e-532f-44e5-a1ca-9e83b257bbb6",
   "metadata": {},
   "outputs": [
    {
     "data": {
      "text/plain": [
       "['LA_0078 LA_D_6443831 A01 spoof\\n',\n",
       " 'LA_0078 LA_D_2873916 A02 spoof\\n',\n",
       " 'LA_0078 LA_D_1809228 A03 spoof\\n',\n",
       " 'LA_0078 LA_D_4332889 A04 spoof\\n',\n",
       " 'LA_0078 LA_D_4821332 A01 spoof\\n']"
      ]
     },
     "execution_count": 183,
     "metadata": {},
     "output_type": "execute_result"
    }
   ],
   "source": [
    "spoof_contents[:5]"
   ]
  },
  {
   "cell_type": "code",
   "execution_count": 185,
   "id": "c72ecd10-3e66-4304-8bf3-82cb06f13261",
   "metadata": {},
   "outputs": [],
   "source": [
    "modified_contents = []\n",
    "for line in bonafide_contents:\n",
    "    words = line.split()\n",
    "    new_line = words[0] +\" \"+ words[1] +\" \"+ words[2] + \"\\n\"\n",
    "    modified_contents.append(new_line)"
   ]
  },
  {
   "cell_type": "code",
   "execution_count": 187,
   "id": "225b5294-03d3-45e4-b5de-14d52aa7e298",
   "metadata": {},
   "outputs": [],
   "source": [
    "for line in spoof_contents:\n",
    "    words = line.split()\n",
    "    new_line = words[0] +\" \"+ words[1] +\" \"+ words[3] + \"\\n\"\n",
    "    modified_contents.append(new_line)"
   ]
  },
  {
   "cell_type": "code",
   "execution_count": 189,
   "id": "8a0a789f-d2bd-4f22-bdb8-5fb421e76e23",
   "metadata": {},
   "outputs": [],
   "source": [
    "with open(\"/Users/ishaan/Documents/ASVspoof 2019 Dataset/protocols/ASVspoof.LA.dev.txt\", \"a\") as f:\n",
    "    f.writelines(modified_contents)"
   ]
  },
  {
   "cell_type": "markdown",
   "id": "e23b9d6a-a9ea-4884-87e7-6b1abdc04352",
   "metadata": {},
   "source": [
    "### train files"
   ]
  },
  {
   "cell_type": "code",
   "execution_count": 16,
   "id": "b104110d-b308-4f23-8836-7312598529e2",
   "metadata": {},
   "outputs": [],
   "source": [
    "with open(\"/Users/ishaan/Documents/ASVspoof 2019 Dataset/ASVspoof2019_LA_cm_protocols/ASVspoof2019.LA.cm.train.trn.txt\") as f:\n",
    "    contents = f.readlines()"
   ]
  },
  {
   "cell_type": "code",
   "execution_count": 20,
   "id": "1fbaa25d-7d6c-4870-a52e-19112f6b1414",
   "metadata": {},
   "outputs": [],
   "source": [
    "modified_contents = []\n",
    "for line in contents:\n",
    "    words = line.split()\n",
    "    new_line = words[0] +\" \"+ words[1] +\" \"+ words[4] + \"\\n\"\n",
    "    modified_contents.append(new_line)"
   ]
  },
  {
   "cell_type": "code",
   "execution_count": 24,
   "id": "83c3b022-3d20-4a99-b79b-a30b07332dda",
   "metadata": {},
   "outputs": [],
   "source": [
    "with open(\"/Users/ishaan/Documents/ASVspoof 2019 Dataset/ASVspoof.LA.train.txt\", \"a\") as f:\n",
    "    f.writelines(modified_contents)"
   ]
  },
  {
   "cell_type": "markdown",
   "id": "0e0c9074-be6a-4bd8-bdf8-20ee40cf3974",
   "metadata": {},
   "source": [
    "### eval files"
   ]
  },
  {
   "cell_type": "code",
   "execution_count": 233,
   "id": "cfbf5656-4afa-49d1-b737-d07085b9811c",
   "metadata": {},
   "outputs": [],
   "source": [
    "with open(\"/Users/ishaan/Documents/ASVspoof 2019 Dataset/ASVspoof2019_LA_asv_protocols/ASVspoof2019.LA.asv.eval.female.trl.txt\") as f:\n",
    "    contents = f.readlines()"
   ]
  },
  {
   "cell_type": "code",
   "execution_count": 235,
   "id": "f407f0e5-b940-4636-9b84-d718e6b35715",
   "metadata": {},
   "outputs": [],
   "source": [
    "# for the file \"ASVspoof2019.LA.asv.eval.male.trl.txt\", \"ASVspoof2019.LA.asv.eval.female.trl.txt\"\n",
    "bonafide_contents = []\n",
    "for line in contents:\n",
    "    if \"bonafide\" in line:\n",
    "        bonafide_contents.append(line)"
   ]
  },
  {
   "cell_type": "code",
   "execution_count": 237,
   "id": "5e07741a-70d0-4dff-9437-07f98026835f",
   "metadata": {},
   "outputs": [
    {
     "data": {
      "text/plain": [
       "['LA_0027 LA_E_9185691 bonafide target\\n',\n",
       " 'LA_0027 LA_E_2470053 bonafide target\\n',\n",
       " 'LA_0027 LA_E_4685529 bonafide target\\n',\n",
       " 'LA_0027 LA_E_8330665 bonafide target\\n',\n",
       " 'LA_0027 LA_E_7828150 bonafide target\\n']"
      ]
     },
     "execution_count": 237,
     "metadata": {},
     "output_type": "execute_result"
    }
   ],
   "source": [
    "bonafide_contents[:5]"
   ]
  },
  {
   "cell_type": "code",
   "execution_count": 239,
   "id": "b64daa9f-5033-4a8f-8f1f-1043448b5378",
   "metadata": {},
   "outputs": [],
   "source": [
    "spoof_contents = []\n",
    "for line in contents:\n",
    "    if \"spoof\" in line:\n",
    "        spoof_contents.append(line)"
   ]
  },
  {
   "cell_type": "code",
   "execution_count": 241,
   "id": "6a9c81b8-32df-4ddf-b9f3-cf60cef4a55f",
   "metadata": {},
   "outputs": [
    {
     "data": {
      "text/plain": [
       "['LA_0026 LA_E_1154302 A13 spoof\\n',\n",
       " 'LA_0026 LA_E_8574729 A14 spoof\\n',\n",
       " 'LA_0026 LA_E_8175756 A15 spoof\\n',\n",
       " 'LA_0026 LA_E_5699509 A16 spoof\\n',\n",
       " 'LA_0026 LA_E_6981221 A08 spoof\\n']"
      ]
     },
     "execution_count": 241,
     "metadata": {},
     "output_type": "execute_result"
    }
   ],
   "source": [
    "spoof_contents[:5]"
   ]
  },
  {
   "cell_type": "code",
   "execution_count": 243,
   "id": "89424983-3e4b-4cdc-9fd1-781fb392b068",
   "metadata": {},
   "outputs": [],
   "source": [
    "modified_contents = []\n",
    "for line in bonafide_contents:\n",
    "    words = line.split()\n",
    "    new_line = words[0] +\" \"+ words[1] +\" \"+ words[2] + \"\\n\"\n",
    "    modified_contents.append(new_line)"
   ]
  },
  {
   "cell_type": "code",
   "execution_count": 245,
   "id": "8402d416-8248-4efe-8f93-f1bce19c572b",
   "metadata": {},
   "outputs": [],
   "source": [
    "for line in spoof_contents:\n",
    "    words = line.split()\n",
    "    new_line = words[0] +\" \"+ words[1] +\" \"+ words[3] + \"\\n\"\n",
    "    modified_contents.append(new_line)"
   ]
  },
  {
   "cell_type": "code",
   "execution_count": 247,
   "id": "c617634e-36ef-4b59-a786-387d76a4fc00",
   "metadata": {},
   "outputs": [],
   "source": [
    "with open(\"/Users/ishaan/Documents/ASVspoof 2019 Dataset/protocols/ASVspoof.LA.eval.txt\", \"a\") as f:\n",
    "    f.writelines(modified_contents)"
   ]
  },
  {
   "cell_type": "code",
   "execution_count": null,
   "id": "1a5b8c3e-09c4-4186-8a85-cdac4b57e5ba",
   "metadata": {},
   "outputs": [],
   "source": []
  }
 ],
 "metadata": {
  "kernelspec": {
   "display_name": "Python 3 (ipykernel)",
   "language": "python",
   "name": "python3"
  },
  "language_info": {
   "codemirror_mode": {
    "name": "ipython",
    "version": 3
   },
   "file_extension": ".py",
   "mimetype": "text/x-python",
   "name": "python",
   "nbconvert_exporter": "python",
   "pygments_lexer": "ipython3",
   "version": "3.12.7"
  }
 },
 "nbformat": 4,
 "nbformat_minor": 5
}
