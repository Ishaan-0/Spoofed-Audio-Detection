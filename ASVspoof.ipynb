{
 "cells": [
  {
   "cell_type": "code",
   "execution_count": 57,
   "id": "3464d828-0026-4cc9-9d27-1f903bb060c0",
   "metadata": {},
   "outputs": [],
   "source": [
    "import os\n",
    "import numpy as np\n",
    "import pandas as pd\n",
    "import librosa\n",
    "import torch\n",
    "import torch.nn as nn\n",
    "from torch.utils.data import Dataset, DataLoader\n",
    "from sklearn.metrics import roc_auc_score, roc_curve\n",
    "from tqdm import tqdm"
   ]
  },
  {
   "cell_type": "code",
   "execution_count": 39,
   "id": "ab9f64f7-e73e-4c7a-af73-7d9c32b31c4e",
   "metadata": {},
   "outputs": [],
   "source": [
    "DATA_ROOT = \"/Users/ishaan/Documents/ASVspoof 2019 Dataset\"\n",
    "BATCH_SIZE = 64\n",
    "N_LFCC = 60          # Number of LFCC coefficients\n",
    "MAX_SEQ_LEN = 187   #  3 seconds frames\n",
    "DEVICE = \"cuda\" if torch.cuda.is_available() else \"cpu\"\n",
    "NUM_EPOCHS = 30"
   ]
  },
  {
   "cell_type": "code",
   "execution_count": 59,
   "id": "ea8b3e83-e085-4554-98a9-84d58e24ffdf",
   "metadata": {},
   "outputs": [],
   "source": [
    "def load_protocol(split=\"train\"):\n",
    "    protocol_path = f\"{DATA_ROOT}/protocols/ASVspoof.LA.{split}.txt\"\n",
    "    df = pd.read_csv(\n",
    "        protocol_path, \n",
    "        sep=\" \",  \n",
    "        header=None, \n",
    "        names=[\"speaker_id\", \"filename\", \"label\"]  \n",
    "    )\n",
    "    \n",
    "    df[\"audio_path\"] = df[\"filename\"].apply(\n",
    "        lambda x: os.path.join(DATA_ROOT, \"audio\", split, \"flac\", f\"{x}.flac\")\n",
    "    )\n",
    "    \n",
    "    df[\"exists\"] = df[\"audio_path\"].apply(os.path.exists)\n",
    "    print(f\"Missing files in {split}: {len(df[~df['exists']])}\")\n",
    "    df = df[df[\"exists\"]].drop(columns=[\"exists\"])\n",
    "    \n",
    "    return df"
   ]
  },
  {
   "cell_type": "code",
   "execution_count": 22,
   "id": "d1b057ed-eb87-476f-9b1c-eb8d182e1505",
   "metadata": {},
   "outputs": [
    {
     "name": "stdout",
     "output_type": "stream",
     "text": [
      "Missing files in train: 0\n",
      "Missing files in dev: 0\n",
      "Missing files in eval: 0\n"
     ]
    }
   ],
   "source": [
    "train_df = load_protocol(\"train\")\n",
    "dev_df = load_protocol(\"dev\")\n",
    "eval_df = load_protocol(\"eval\")"
   ]
  },
  {
   "cell_type": "code",
   "execution_count": 33,
   "id": "a58df686-0a00-4e5a-9871-00813d35b28a",
   "metadata": {},
   "outputs": [],
   "source": [
    "def extract_lfcc(audio_path, n_lfcc=60, sr=16000):\n",
    "    \"\"\"Extract LFCC features from audio (ASVspoof baseline).\"\"\"\n",
    "    y, _ = librosa.load(audio_path, sr=sr)\n",
    "    \n",
    "    lfccs = librosa.feature.mfcc(\n",
    "        y=y, sr=sr, n_mfcc=n_lfcc, dct_type=2, lifter=0,\n",
    "        n_fft=512, hop_length=256, n_mels=64, fmin=0, fmax=8000\n",
    "    )\n",
    "    return lfccs.T  # Shape: (time, n_lfcc)"
   ]
  },
  {
   "cell_type": "code",
   "execution_count": 63,
   "id": "a7cab1be-2c9f-4b40-843b-a2b4c8d453e7",
   "metadata": {},
   "outputs": [],
   "source": [
    "class ASVSpoofDataset(Dataset):\n",
    "    def __init__(self, df):\n",
    "        self.df = df\n",
    "        self.label_map = {\"bonafide\": 0, \"spoof\": 1}\n",
    "\n",
    "    def __len__(self):\n",
    "        return len(self.df)\n",
    "\n",
    "    def __getitem__(self, idx):\n",
    "        row = self.df.iloc[idx]\n",
    "        \n",
    "        # Load and process LFCCs\n",
    "        lfccs = extract_lfcc(row[\"audio_path\"])\n",
    "        \n",
    "        # Pad/truncate to fixed length\n",
    "        if lfccs.shape[0] < MAX_SEQ_LEN:\n",
    "            pad = ((0, MAX_SEQ_LEN - lfccs.shape[0]), (0, 0))\n",
    "            lfccs = np.pad(lfccs, pad, mode='constant')\n",
    "        else:\n",
    "            lfccs = lfccs[:MAX_SEQ_LEN]\n",
    "            \n",
    "        # Add channel dimension (for Conv2d)\n",
    "        lfccs = torch.FloatTensor(lfccs).unsqueeze(0)  # (1, 187, 60)\n",
    "        label = torch.tensor(self.label_map[row[\"label\"]])\n",
    "        \n",
    "        return lfccs, label"
   ]
  },
  {
   "cell_type": "code",
   "execution_count": 65,
   "id": "2bd09e19-e24c-45ca-b4a0-e45d09657b28",
   "metadata": {},
   "outputs": [],
   "source": [
    "class LCNN(nn.Module):\n",
    "    def __init__(self, num_classes=2):\n",
    "        super(LCNN, self).__init__()\n",
    "        \n",
    "        # Feature extraction\n",
    "        self.conv1 = nn.Conv2d(1, 64, kernel_size=(5, 5), padding=(2, 2))\n",
    "        self.bn1 = nn.BatchNorm2d(64)\n",
    "        self.pool1 = nn.MaxPool2d((2, 2))\n",
    "        \n",
    "        # Deep feature learning\n",
    "        self.conv2 = nn.Conv2d(64, 128, kernel_size=(3, 3), padding=(1, 1))\n",
    "        self.bn2 = nn.BatchNorm2d(128)\n",
    "        self.pool2 = nn.MaxPool2d((2, 2))\n",
    "        \n",
    "        # Temporal modeling\n",
    "        self.gru = nn.GRU(128 * 15, 64, batch_first=True)  # Input: (batch, seq, features)\n",
    "        \n",
    "        # Classification\n",
    "        self.fc = nn.Linear(64, num_classes)\n",
    "\n",
    "    def forward(self, x):\n",
    "        # Input shape: (batch, 1, 187, 60)\n",
    "        x = self.pool1(torch.relu(self.bn1(self.conv1(x))))  # (b, 64, 93, 30)\n",
    "        x = self.pool2(torch.relu(self.bn2(self.conv2(x))))   # (b, 128, 46, 15)\n",
    "        \n",
    "        # Prepare for GRU\n",
    "        x = x.permute(0, 2, 1, 3).flatten(2)  # (batch, 46, 128*15=1920)\n",
    "        x, _ = self.gru(x)                     # (batch, 46, 64)\n",
    "        x = x[:, -1, :]                        # Last timestep\n",
    "        \n",
    "        return self.fc(x)"
   ]
  },
  {
   "cell_type": "code",
   "execution_count": 69,
   "id": "726865d1-9ca9-4ed6-a6b7-0f959d44de5e",
   "metadata": {},
   "outputs": [],
   "source": [
    "def train_epoch(model, loader, optimizer, criterion):\n",
    "    model.train()\n",
    "    total_loss = 0\n",
    "    for inputs, labels in tqdm(loader, desc=\"Training\"):\n",
    "        inputs, labels = inputs.to(DEVICE), labels.to(DEVICE)\n",
    "        optimizer.zero_grad()\n",
    "        outputs = model(inputs)\n",
    "        loss = criterion(outputs, labels)\n",
    "        loss.backward()\n",
    "        optimizer.step()\n",
    "        total_loss += loss.item()\n",
    "    return total_loss / len(loader)\n",
    "\n",
    "def validate(model, loader, criterion):\n",
    "    model.eval()\n",
    "    total_loss = 0\n",
    "    all_labels, all_scores = [], []\n",
    "    \n",
    "    with torch.no_grad():\n",
    "        for inputs, labels in tqdm(loader, desc=\"Validation\"):\n",
    "            inputs = inputs.to(DEVICE)\n",
    "            outputs = model(inputs)\n",
    "            loss = criterion(outputs, labels.cpu())\n",
    "            total_loss += loss.item()\n",
    "            \n",
    "            scores = torch.softmax(outputs.cpu(), dim=1)[:, 1]\n",
    "            all_labels.extend(labels.numpy())\n",
    "            all_scores.extend(scores.numpy())\n",
    "    \n",
    "    return total_loss / len(loader), compute_eer(all_labels, all_scores)\n",
    "\n",
    "def compute_eer(labels, scores):\n",
    "    fpr, tpr, _ = roc_curve(labels, scores)\n",
    "    eer = fpr[np.nanargmin(np.abs(fpr - (1 - tpr)))]\n",
    "    return eer"
   ]
  },
  {
   "cell_type": "code",
   "execution_count": null,
   "id": "2a6100f1-76e9-4487-81df-6ab86d382a84",
   "metadata": {},
   "outputs": [],
   "source": [
    "def main():\n",
    "    # Load data\n",
    "    train_df = load_protocol(\"train\")\n",
    "    dev_df = load_protocol(\"dev\")\n",
    "    train_dataset = ASVSpoofDataset(train_df)\n",
    "    dev_dataset = ASVSpoofDataset(dev_df)\n",
    "    \n",
    "    train_loader = DataLoader(train_dataset, batch_size=BATCH_SIZE, shuffle=True, num_workers=4)\n",
    "    dev_loader = DataLoader(dev_dataset, batch_size=BATCH_SIZE, num_workers=4)\n",
    "    \n",
    "    # Initialize model\n",
    "    model = LCNN().to(DEVICE)\n",
    "    optimizer = torch.optim.Adam(model.parameters(), lr=0.001)\n",
    "    criterion = nn.CrossEntropyLoss()\n",
    "    \n",
    "    # Training loop\n",
    "    best_eer = 1.0\n",
    "    for epoch in range(NUM_EPOCHS):\n",
    "        train_loss = train_epoch(model, train_loader, optimizer, criterion)\n",
    "        val_loss, val_eer = validate(model, dev_loader, criterion)\n",
    "        \n",
    "        print(f\"Epoch {epoch+1}/{NUM_EPOCHS}\")\n",
    "        print(f\"Train Loss: {train_loss:.4f} | Val Loss: {val_loss:.4f} | Val EER: {val_eer:.4f}\")"
   ]
  },
  {
   "cell_type": "code",
   "execution_count": null,
   "id": "f9caea51-26ed-4193-b664-eaea60574970",
   "metadata": {},
   "outputs": [],
   "source": []
  }
 ],
 "metadata": {
  "kernelspec": {
   "display_name": "Python 3 (ipykernel)",
   "language": "python",
   "name": "python3"
  },
  "language_info": {
   "codemirror_mode": {
    "name": "ipython",
    "version": 3
   },
   "file_extension": ".py",
   "mimetype": "text/x-python",
   "name": "python",
   "nbconvert_exporter": "python",
   "pygments_lexer": "ipython3",
   "version": "3.12.7"
  }
 },
 "nbformat": 4,
 "nbformat_minor": 5
}
